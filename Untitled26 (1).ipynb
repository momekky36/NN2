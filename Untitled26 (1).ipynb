{
 "cells": [
  {
   "cell_type": "code",
   "execution_count": 15,
   "id": "7e8c79e8-20b9-49d6-b0e2-6f4ede868ab6",
   "metadata": {},
   "outputs": [],
   "source": [
    "import math\n",
    "   \n",
    "def tanh(x):\n",
    "    return (math.exp(x) - math.exp(-x)) / (math.exp(x) + math.exp(-x))\n",
    "\n",
    "def tanh_derivative(x):\n",
    "    return 1 - tanh(x) ** 2\n",
    "\n",
    "i1, i2 = 0.05, 0.10\n",
    "\n",
    "w1, w2, w3, w4 = 0.15, 0.20, 0.25, 0.30\n",
    "w5, w6, w7, w8 = 0.40, 0.45, 0.50, 0.55\n",
    "\n",
    "b1, b2 = 0.35, 0.60\n",
    "\n",
    "t1, t2 = 0.1, 0.99\n",
    "\n",
    "learning_rate = 0.5\n"
   ]
  },
  {
   "cell_type": "code",
   "execution_count": 16,
   "id": "b3391555-7bdb-4409-b855-cd4ad35d14fc",
   "metadata": {},
   "outputs": [],
   "source": [
    "def forward_propagation():\n",
    "    global h1, h2, o1, o2, net_h1, net_h2, net_o1, net_o2\n",
    "\n",
    "    net_h1 = (w1 * i1) + (w2 * i2) + b1\n",
    "    h1 = tanh(net_h1)\n",
    "\n",
    "    net_h2 = (w3 * i1) + (w4 * i2) + b2\n",
    "    h2 = tanh(net_h2)\n",
    "\n",
    "    net_o1 = (w5 * h1) + (w6 * h2) + b1\n",
    "    o1 = tanh(net_o1)\n",
    "\n",
    "    net_o2 = (w7 * h1) + (w8 * h2) + b2\n",
    "    o2 = tanh(net_o2)\n",
    "\n",
    "    print(f\"Forward Pass: h1={h1}, h2={h2}, o1={o1}, o2={o2}\")"
   ]
  },
  {
   "cell_type": "code",
   "execution_count": 17,
   "id": "6b2ad34a-d6ce-4791-911e-cd80300f34f7",
   "metadata": {},
   "outputs": [],
   "source": [
    "def back_propagation():\n",
    "    global w1, w2, w3, w4, w5, w6, w7, w8, b1, b2\n",
    "\n",
    "    error_o1 = (t1 - o1) * tanh_derivative(net_o1)\n",
    "    error_o2 = (t2 - o2) * tanh_derivative(net_o2)\n",
    "\n",
    "    delta_w5 = learning_rate * error_o1 * h1\n",
    "    delta_w6 = learning_rate * error_o1 * h2\n",
    "    delta_w7 = learning_rate * error_o2 * h1\n",
    "    delta_w8 = learning_rate * error_o2 * h2\n",
    "\n",
    "    error_h1 = (error_o1 * w5 + error_o2 * w7) * tanh_derivative(net_h1)\n",
    "    error_h2 = (error_o1 * w6 + error_o2 * w8) * tanh_derivative(net_h2)\n",
    "\n",
    "    delta_w1 = learning_rate * error_h1 * i1\n",
    "    delta_w2 = learning_rate * error_h1 * i2\n",
    "    delta_w3 = learning_rate * error_h2 * i1\n",
    "    delta_w4 = learning_rate * error_h2 * i2\n",
    "\n",
    "    w1 += delta_w1\n",
    "    w2 += delta_w2\n",
    "    w3 += delta_w3\n",
    "    w4 += delta_w4\n",
    "    w5 += delta_w5\n",
    "    w6 += delta_w6\n",
    "    w7 += delta_w7\n",
    "    w8 += delta_w8\n",
    "\n",
    "    b1 += learning_rate * error_h1\n",
    "    b2 += learning_rate * error_h2"
   ]
  },
  {
   "cell_type": "code",
   "execution_count": 18,
   "id": "8a21f450-626b-44d6-aae7-b883a20df9ce",
   "metadata": {},
   "outputs": [
    {
     "name": "stdout",
     "output_type": "stream",
     "text": [
      "Updated Weights: w1=0.15, w2=0.2, w3=0.25, w4=0.3, w5=0.4, w6=0.45, w7=0.5, w8=0.55\n",
      "Updated Biases: b1=0.35, b2=0.6\n"
     ]
    }
   ],
   "source": [
    "print(f\"Updated Weights: w1={w1}, w2={w2}, w3={w3}, w4={w4}, w5={w5}, w6={w6}, w7={w7}, w8={w8}\")\n",
    "print(f\"Updated Biases: b1={b1}, b2={b2}\")"
   ]
  },
  {
   "cell_type": "code",
   "execution_count": 19,
   "id": "c3c036f7-a521-466d-b81f-bfac1fd81028",
   "metadata": {},
   "outputs": [
    {
     "name": "stdout",
     "output_type": "stream",
     "text": [
      "\n",
      "Epoch 1\n",
      "Forward Pass: h1=0.3605343933972968, h2=0.5665993699780817, o1=0.6346615718186287, o2=0.7975694207596233\n",
      "\n",
      "Epoch 2\n",
      "Forward Pass: h1=0.3244980571297733, h2=0.5415519610800321, o1=0.5479886728695205, o2=0.7775865365074529\n",
      "\n",
      "Epoch 3\n",
      "Forward Pass: h1=0.298202822387878, h2=0.5249496339612939, o1=0.47153672383855405, o2=0.7655064675943369\n",
      "\n",
      "Epoch 4\n",
      "Forward Pass: h1=0.28328285543352294, h2=0.5184679250537793, o1=0.41223007912982124, o2=0.7638808074656812\n",
      "\n",
      "Epoch 5\n",
      "Forward Pass: h1=0.2774739637799678, h2=0.5202447463199712, o1=0.3677673770315284, o2=0.770773928456452\n"
     ]
    }
   ],
   "source": [
    "for epoch in range(1, 6):\n",
    "    print(f\"\\nEpoch {epoch}\")\n",
    "    forward_propagation()\n",
    "    back_propagation()"
   ]
  },
  {
   "cell_type": "code",
   "execution_count": null,
   "id": "e65dc9ab-0e4c-450f-a720-d546483ea7de",
   "metadata": {},
   "outputs": [],
   "source": []
  },
  {
   "cell_type": "code",
   "execution_count": null,
   "id": "9e8dff1c-1e44-4183-94fc-65c0edefa227",
   "metadata": {},
   "outputs": [],
   "source": []
  },
  {
   "cell_type": "code",
   "execution_count": null,
   "id": "c351c5c0-1772-4113-828b-d55df6d80103",
   "metadata": {},
   "outputs": [],
   "source": []
  }
 ],
 "metadata": {
  "kernelspec": {
   "display_name": "Python 3 (ipykernel)",
   "language": "python",
   "name": "python3"
  },
  "language_info": {
   "codemirror_mode": {
    "name": "ipython",
    "version": 3
   },
   "file_extension": ".py",
   "mimetype": "text/x-python",
   "name": "python",
   "nbconvert_exporter": "python",
   "pygments_lexer": "ipython3",
   "version": "3.12.7"
  }
 },
 "nbformat": 4,
 "nbformat_minor": 5
}
